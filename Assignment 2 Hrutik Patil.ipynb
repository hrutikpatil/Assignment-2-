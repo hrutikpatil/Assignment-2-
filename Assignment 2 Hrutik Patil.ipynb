{
 "cells": [
  {
   "cell_type": "markdown",
   "metadata": {
    "id": "cyOfbWCdOjEr"
   },
   "source": [
    " # Assignment 2 \n",
    " # student Name:- Hrutik Pramod Patil\n",
    " # Full Stack Data Science Course."
   ]
  },
  {
   "cell_type": "markdown",
   "metadata": {
    "id": "GT4IytkJMNa-"
   },
   "source": [
    "\n"
   ]
  },
  {
   "cell_type": "code",
   "execution_count": null,
   "metadata": {},
   "outputs": [],
   "source": []
  },
  {
   "cell_type": "markdown",
   "metadata": {
    "id": "a_4kbBVWNY-4"
   },
   "source": [
    "\n"
   ]
  },
  {
   "cell_type": "markdown",
   "metadata": {
    "id": "v288WPlMNxmM"
   },
   "source": [
    "### Answer below questions -\n"
   ]
  },
  {
   "cell_type": "code",
   "execution_count": 1,
   "metadata": {
    "id": "XumyqFp6MHnv",
    "scrolled": true
   },
   "outputs": [
    {
     "ename": "IndentationError",
     "evalue": "expected an indented block after 'if' statement on line 11 (897563421.py, line 12)",
     "output_type": "error",
     "traceback": [
      "\u001b[1;36m  Input \u001b[1;32mIn [1]\u001b[1;36m\u001b[0m\n\u001b[1;33m    print(\"the numbers are equal\")\u001b[0m\n\u001b[1;37m    ^\u001b[0m\n\u001b[1;31mIndentationError\u001b[0m\u001b[1;31m:\u001b[0m expected an indented block after 'if' statement on line 11\n"
     ]
    }
   ],
   "source": [
    "# 1. What is indentation error? Why indentation is important? Give one simple example?\n",
    "\n",
    "# ans= The indentation error can occur when the spaces or tabs are not placed properly.Identation is necessary while,\n",
    "# performing the various codes.\n",
    "\n",
    "# example of the ldentation error.\n",
    "\n",
    "num1 = 10\n",
    "num2 = 20\n",
    "\n",
    "if num1==num2:\n",
    "print(\"the numbers are equal\")\n",
    "\n",
    "\n"
   ]
  },
  {
   "cell_type": "code",
   "execution_count": 19,
   "metadata": {},
   "outputs": [
    {
     "name": "stdout",
     "output_type": "stream",
     "text": [
      "Hey friend, is class started?: [0-False/1-True]True\n",
      "Since class started...\n",
      "Lets concentrate\n"
     ]
    }
   ],
   "source": [
    "#2. Correct the following code and write the comment where you made the correction?\n",
    "\n",
    "class_started = input(\"Hey friend, is class started?: [0-False/1-True]\") #removed the boolean conversion\n",
    "\n",
    "if class_started == '0' or class_started =='False': # added the if condition to check whether 0 or false\n",
    "    class_started=''\n",
    "    \n",
    "if class_started:\n",
    "    print(\"Since class started...\")\n",
    "    print(\"Lets concentrate\")\n",
    "else:\n",
    "    print(\"Since class is not started...\")\n",
    "    print(\"let's revise\")    \n",
    "  \n",
    "\n"
   ]
  },
  {
   "cell_type": "code",
   "execution_count": 22,
   "metadata": {},
   "outputs": [
    {
     "name": "stdout",
     "output_type": "stream",
     "text": [
      "what is your name?4546\n",
      "i am a string\n"
     ]
    }
   ],
   "source": [
    "#3. Use if else condition to verify that dataype of `input()` method in python is always string\n",
    "\n",
    "name = input(\"what is your name?\")\n",
    "if type(name)== str:\n",
    "    print(\"i am a string\")\n",
    "else:\n",
    "    print(\"i am not a string\")\n",
    "\n"
   ]
  },
  {
   "cell_type": "code",
   "execution_count": 25,
   "metadata": {},
   "outputs": [
    {
     "name": "stdout",
     "output_type": "stream",
     "text": [
      "enter the first number:125\n",
      "enter the second number:255\n",
      "enter the 3rd number:126\n",
      "num2 is grater\n"
     ]
    }
   ],
   "source": [
    "#4. Take 3 variables and assign integer values to them. Find the largest variable, by only using,the if and else conditions.\n",
    "\n",
    "num1 = int(input('enter the first number:'))\n",
    "num2 = int(input('enter the second number:'))\n",
    "num3 = int(input('enter the 3rd number:'))\n",
    "\n",
    "if num1<num2:\n",
    "    if num2<num3:\n",
    "        print('num3 is greate')\n",
    "    else:\n",
    "        print('num2 is grater')\n",
    "else:\n",
    "    print('num1 is grater')\n",
    "    \n",
    "    \n",
    "    \n",
    "    \n",
    "    \n",
    "    \n",
    "    \n",
    "    \n",
    "    "
   ]
  },
  {
   "cell_type": "code",
   "execution_count": 29,
   "metadata": {},
   "outputs": [
    {
     "name": "stdout",
     "output_type": "stream",
     "text": [
      "False\n"
     ]
    }
   ],
   "source": [
    "\n",
    "# 5. What would be the solution?\n",
    "#     1. True\n",
    "#     2. False\n",
    "a = 6\n",
    "b = 10\n",
    "print( not ( not a == 10 or not b == 10) )"
   ]
  },
  {
   "cell_type": "code",
   "execution_count": null,
   "metadata": {},
   "outputs": [],
   "source": [
    "# 6. Find the answer as well as find out the reason behind the result? -\n",
    "#     - case 1:\n",
    "A = 5.0\n",
    "B = 10/2\n",
    "print(A is B)\n",
    "# reason = A is a flaoting value and B is the arthimatic opration hence the output false is obtain\n",
    "\n",
    "#case 2-\n",
    "\n",
    "A = 5.0\n",
    "B = int(10/2)\n",
    "print(A is B)\n",
    "\n",
    "# reason= A is a flaoting type number and B is integer type hence the output false is coming\n",
    "#case 3:\n",
    "        \n",
    "A = 5.0\n",
    "B = float(10/2)\n",
    "print(A is B)\n",
    "# reason = The arithmatic expression is of base 2 and is converted to float type "
   ]
  },
  {
   "cell_type": "code",
   "execution_count": 33,
   "metadata": {},
   "outputs": [
    {
     "name": "stdout",
     "output_type": "stream",
     "text": [
      "enter the number:22\n",
      "The given number is not divisible by 3 or 5\n"
     ]
    }
   ],
   "source": [
    "# 7. Write a program that asks the user to enter a number. You should printout a message to the user, \n",
    "# either “That number is divisible by either 3 or 5”, or“That number is not divisible by either 3 or 5”.\n",
    "# Be sure to consider the data type of the input you are taking in from the user. \n",
    "# Use a singleif/else block to solve this problem.\n",
    "\n",
    "# ans-\n",
    "num = int(input('enter the number:'))\n",
    "if num %3 ==0 or num % 5==0:\n",
    "    print('The given number is divisible by 3 or 5')\n",
    "else:\n",
    "    print(\"The given number is not divisible by 3 or 5\")\n"
   ]
  },
  {
   "cell_type": "code",
   "execution_count": 1,
   "metadata": {},
   "outputs": [
    {
     "name": "stdout",
     "output_type": "stream",
     "text": [
      "enter the length:15\n",
      "enter the width12\n",
      "180\n",
      "it is a rectangle\n"
     ]
    }
   ],
   "source": [
    "# 8. Take user input for length and width. Then calculate the area of rectangle. Also print as per length and width whether \n",
    "# its a square of rectangle.\n",
    "\n",
    "# ans=\n",
    "\n",
    "length= int(input('enter the length:'))\n",
    "width = int(input('enter the width'))\n",
    "\n",
    "area = length*width\n",
    "print(area)\n",
    "if length==width:\n",
    "    print(\"as length and width are same hence it is a square\")\n",
    "else:\n",
    "    print('it is a rectangle')\n",
    "\n"
   ]
  },
  {
   "cell_type": "code",
   "execution_count": 5,
   "metadata": {},
   "outputs": [
    {
     "name": "stdout",
     "output_type": "stream",
     "text": [
      "enter the 1st radius20\n",
      "enter the second radius30\n",
      "area of 2nd circle is greater\n"
     ]
    }
   ],
   "source": [
    "# 9. Take two variable radius_1 and radius_2 and calculate the area of circle_1 and circle_2.\n",
    "# Also print which circle has large area. If area is equal then print area is equal\n",
    "\n",
    "radius_1 = int(input(\"enter the 1st radius\"))\n",
    "radius_2 = int(input('enter the second radius'))\n",
    "area_of_circle_1 = 3.14* radius_1**2\n",
    "area_of_circle_2 = 3.14* radius_2**2\n",
    "\n",
    "if area_of_circle_1 > area_of_circle_2:\n",
    "    print(\"area of 1st circle is greater\")\n",
    "elif area_of_circle_1  < area_of_circle_2 :\n",
    "     print(\"area of 2nd circle is greater\")\n",
    "else:\n",
    "    print('both circles having equal area')"
   ]
  },
  {
   "cell_type": "code",
   "execution_count": 12,
   "metadata": {},
   "outputs": [
    {
     "name": "stdout",
     "output_type": "stream",
     "text": [
      "enter year :2000\n",
      "2000\n",
      "its a leap year\n"
     ]
    }
   ],
   "source": [
    "# 10. Check whether a year is leap year or not. Use nested if...else to solve this problem.\n",
    "# A leap year is exactly divisible by 4 except for century years (years ending with 00). \n",
    "# The century year is a leap year only if it is perfectly divisible by 400.\n",
    "year = int(input(\"enter year :\"))\n",
    "print(year)\n",
    "if (year%4 == 0 and year%100 != 0):\n",
    "   print(\"its a leap year\")\n",
    "elif (year%400==0):\n",
    "    print(\"its a leap year\")\n",
    "else:\n",
    "    print(\"its not a leap year\") "
   ]
  },
  {
   "cell_type": "code",
   "execution_count": null,
   "metadata": {},
   "outputs": [],
   "source": []
  },
  {
   "cell_type": "code",
   "execution_count": null,
   "metadata": {},
   "outputs": [],
   "source": []
  },
  {
   "cell_type": "code",
   "execution_count": null,
   "metadata": {},
   "outputs": [],
   "source": []
  }
 ],
 "metadata": {
  "colab": {
   "collapsed_sections": [],
   "provenance": []
  },
  "kernelspec": {
   "display_name": "Python 3 (ipykernel)",
   "language": "python",
   "name": "python3"
  },
  "language_info": {
   "codemirror_mode": {
    "name": "ipython",
    "version": 3
   },
   "file_extension": ".py",
   "mimetype": "text/x-python",
   "name": "python",
   "nbconvert_exporter": "python",
   "pygments_lexer": "ipython3",
   "version": "3.10.1"
  }
 },
 "nbformat": 4,
 "nbformat_minor": 1
}
